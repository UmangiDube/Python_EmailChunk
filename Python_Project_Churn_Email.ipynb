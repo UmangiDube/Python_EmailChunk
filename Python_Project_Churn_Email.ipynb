{
  "nbformat": 4,
  "nbformat_minor": 0,
  "metadata": {
    "colab": {
      "provenance": []
    },
    "kernelspec": {
      "name": "python3",
      "display_name": "Python 3"
    },
    "language_info": {
      "name": "python"
    }
  },
  "cells": [
    {
      "cell_type": "code",
      "execution_count": 1,
      "metadata": {
        "id": "NDX3YCtEPqJn"
      },
      "outputs": [],
      "source": [
        "#/content/sample_data/mbox-short.txt"
      ]
    },
    {
      "cell_type": "code",
      "source": [
        "!head -n15 /content/sample_data/mbox-short.txt"
      ],
      "metadata": {
        "colab": {
          "base_uri": "https://localhost:8080/"
        },
        "id": "mTQeATBgQBfG",
        "outputId": "a4c0ec52-b948-4a42-e045-94ab63342408"
      },
      "execution_count": 2,
      "outputs": [
        {
          "output_type": "stream",
          "name": "stdout",
          "text": [
            "From stephen.marquard@uct.ac.za Sat Jan  5 09:14:16 2008\n",
            "Return-Path: <postmaster@collab.sakaiproject.org>\n",
            "Received: from murder (mail.umich.edu [141.211.14.90])\n",
            "\t by frankenstein.mail.umich.edu (Cyrus v2.3.8) with LMTPA;\n",
            "\t Sat, 05 Jan 2008 09:14:16 -0500\n",
            "X-Sieve: CMU Sieve 2.3\n",
            "Received: from murder ([unix socket])\n",
            "\t by mail.umich.edu (Cyrus v2.2.12) with LMTPA;\n",
            "\t Sat, 05 Jan 2008 09:14:16 -0500\n",
            "Received: from holes.mr.itd.umich.edu (holes.mr.itd.umich.edu [141.211.14.79])\n",
            "\tby flawless.mail.umich.edu () with ESMTP id m05EEFR1013674;\n",
            "\tSat, 5 Jan 2008 09:14:15 -0500\n",
            "Received: FROM paploo.uhi.ac.uk (app1.prod.collab.uhi.ac.uk [194.35.219.184])\n",
            "\tBY holes.mr.itd.umich.edu ID 477F90B0.2DB2F.12494 ; \n",
            "\t 5 Jan 2008 09:14:10 -0500\n"
          ]
        }
      ]
    },
    {
      "cell_type": "code",
      "source": [
        "fhand = open('/content/sample_data/mbox-short.txt')\n",
        "inp = fhand.read()\n",
        "fhand.close()"
      ],
      "metadata": {
        "id": "HMkmEbwAQIDI"
      },
      "execution_count": 3,
      "outputs": []
    },
    {
      "cell_type": "code",
      "source": [
        "def number_of_line():\n",
        "  fhand = open('/content/sample_data/mbox-short.txt')\n",
        "  inp = fhand.read()\n",
        "  fhand.close()\n",
        "  count = 0\n",
        "  for line in inp:\n",
        "    if line == '\\n':\n",
        "      count += 1\n",
        "  return count\n",
        "\n",
        "number_of_line()"
      ],
      "metadata": {
        "colab": {
          "base_uri": "https://localhost:8080/"
        },
        "id": "utOq7aneQVp-",
        "outputId": "1b0bf2f9-7ec1-498c-97bf-1719598ea510"
      },
      "execution_count": 4,
      "outputs": [
        {
          "output_type": "execute_result",
          "data": {
            "text/plain": [
              "1910"
            ]
          },
          "metadata": {},
          "execution_count": 4
        }
      ]
    },
    {
      "cell_type": "code",
      "source": [
        "fhand = open('/content/sample_data/mbox-short.txt')\n",
        "count = 0\n",
        "for line in fhand:\n",
        "  line = line.rstrip() # Remove new line characters from right\n",
        "  if line.startswith('From:'):\n",
        "    print(line)\n"
      ],
      "metadata": {
        "colab": {
          "base_uri": "https://localhost:8080/"
        },
        "id": "JqnhUNOyRAdM",
        "outputId": "813c6eef-5bbc-40b8-ddb8-0b30612a63e1"
      },
      "execution_count": 7,
      "outputs": [
        {
          "output_type": "stream",
          "name": "stdout",
          "text": [
            "From: stephen.marquard@uct.ac.za\n",
            "From: louis@media.berkeley.edu\n",
            "From: zqian@umich.edu\n",
            "From: rjlowe@iupui.edu\n",
            "From: zqian@umich.edu\n",
            "From: rjlowe@iupui.edu\n",
            "From: cwen@iupui.edu\n",
            "From: cwen@iupui.edu\n",
            "From: gsilver@umich.edu\n",
            "From: gsilver@umich.edu\n",
            "From: zqian@umich.edu\n",
            "From: gsilver@umich.edu\n",
            "From: wagnermr@iupui.edu\n",
            "From: zqian@umich.edu\n",
            "From: antranig@caret.cam.ac.uk\n",
            "From: gopal.ramasammycook@gmail.com\n",
            "From: david.horwitz@uct.ac.za\n",
            "From: david.horwitz@uct.ac.za\n",
            "From: david.horwitz@uct.ac.za\n",
            "From: david.horwitz@uct.ac.za\n",
            "From: stephen.marquard@uct.ac.za\n",
            "From: louis@media.berkeley.edu\n",
            "From: louis@media.berkeley.edu\n",
            "From: ray@media.berkeley.edu\n",
            "From: cwen@iupui.edu\n",
            "From: cwen@iupui.edu\n",
            "From: cwen@iupui.edu\n"
          ]
        }
      ]
    },
    {
      "cell_type": "code",
      "source": [
        "def count_number_of_lines():\n",
        "  fhand = open('/content/sample_data/mbox-short.txt')\n",
        "  count = 0\n",
        "  for line in fhand:\n",
        "    if line.startswith('Subject:'):\n",
        "      count += 1\n",
        "  return count\n",
        "\n",
        "count_number_of_lines()"
      ],
      "metadata": {
        "colab": {
          "base_uri": "https://localhost:8080/"
        },
        "id": "ZX0xBhWuRTOV",
        "outputId": "174b71a6-971a-47f8-a69c-a33bfefb641f"
      },
      "execution_count": 8,
      "outputs": [
        {
          "output_type": "execute_result",
          "data": {
            "text/plain": [
              "27"
            ]
          },
          "metadata": {},
          "execution_count": 8
        }
      ]
    },
    {
      "cell_type": "code",
      "source": [
        "def average_spam_confidence():\n",
        "  fhand = open('/content/sample_data/mbox-short.txt')\n",
        "  count = 0\n",
        "  total = 0\n",
        "  for line in fhand:\n",
        "    line = line.rstrip()\n",
        "    new_line = line\n",
        "    if new_line.startswith('X-DSPAM-Confidence:'):\n",
        "      value = new_line.split(\":\")\n",
        "      total += float(value[1])\n",
        "      count += 1\n",
        "  return (total/count)\n",
        "\n",
        "average_spam_confidence()\n"
      ],
      "metadata": {
        "colab": {
          "base_uri": "https://localhost:8080/"
        },
        "id": "NqpBtWdYSAEM",
        "outputId": "210083d4-ae94-4aa9-f377-de7d557ab186"
      },
      "execution_count": 12,
      "outputs": [
        {
          "output_type": "execute_result",
          "data": {
            "text/plain": [
              "0.7507185185185187"
            ]
          },
          "metadata": {},
          "execution_count": 12
        }
      ]
    },
    {
      "cell_type": "code",
      "source": [
        "def find_email_sent_days():\n",
        "  fhand = open('/content/sample_data/mbox-short.txt')\n",
        "  day_mails = {}\n",
        "  for line in fhand:\n",
        "    line = line.rstrip()\n",
        "    if line.startswith(\"From \"):\n",
        "      day = line.split(\" \")[2].strip()\n",
        "      day_mails[day] = day_mails.get(day, 0) + 1\n",
        "  return day_mails\n",
        "\n",
        "find_email_sent_days()"
      ],
      "metadata": {
        "colab": {
          "base_uri": "https://localhost:8080/"
        },
        "id": "JRrs27AyT9GD",
        "outputId": "6f1b4c6f-c29e-4c90-c540-34b8aa80314f"
      },
      "execution_count": 17,
      "outputs": [
        {
          "output_type": "execute_result",
          "data": {
            "text/plain": [
              "{'Sat': 1, 'Fri': 20, 'Thu': 6}"
            ]
          },
          "metadata": {},
          "execution_count": 17
        }
      ]
    },
    {
      "cell_type": "code",
      "source": [
        "def count_message_from_email():\n",
        "  fhand = open('/content/sample_data/mbox-short.txt')\n",
        "  from_mail = {}\n",
        "  for line in fhand:\n",
        "    line = line.rstrip()\n",
        "    if line.startswith(\"From \"):\n",
        "      f_mail = line.split(\" \")[1]\n",
        "      from_mail[f_mail] = from_mail.get(f_mail,0) + 1\n",
        "  return from_mail\n",
        "\n",
        "count_message_from_email()"
      ],
      "metadata": {
        "colab": {
          "base_uri": "https://localhost:8080/"
        },
        "id": "PXHeYO_rVHka",
        "outputId": "9aefef92-bf78-4b95-8c80-f7937360efc1"
      },
      "execution_count": 18,
      "outputs": [
        {
          "output_type": "execute_result",
          "data": {
            "text/plain": [
              "{'stephen.marquard@uct.ac.za': 2,\n",
              " 'louis@media.berkeley.edu': 3,\n",
              " 'zqian@umich.edu': 4,\n",
              " 'rjlowe@iupui.edu': 2,\n",
              " 'cwen@iupui.edu': 5,\n",
              " 'gsilver@umich.edu': 3,\n",
              " 'wagnermr@iupui.edu': 1,\n",
              " 'antranig@caret.cam.ac.uk': 1,\n",
              " 'gopal.ramasammycook@gmail.com': 1,\n",
              " 'david.horwitz@uct.ac.za': 4,\n",
              " 'ray@media.berkeley.edu': 1}"
            ]
          },
          "metadata": {},
          "execution_count": 18
        }
      ]
    },
    {
      "cell_type": "code",
      "source": [
        "def count_message_from_domain():\n",
        "  fhand = open(\"/content/sample_data/mbox-short.txt\")\n",
        "  each_domain = {}\n",
        "  for line in fhand:\n",
        "    line = line.rstrip()\n",
        "    if line.startswith(\"From \"):\n",
        "      domain = line.split(\" \")[1].split(\"@\")[1]\n",
        "      each_domain[domain] = each_domain.get(domain,0) + 1\n",
        "  return each_domain\n",
        "\n",
        "count_message_from_domain()"
      ],
      "metadata": {
        "colab": {
          "base_uri": "https://localhost:8080/"
        },
        "id": "HVwbUXISWbL2",
        "outputId": "05b97201-ea4e-4e37-a66e-9c857941a247"
      },
      "execution_count": 19,
      "outputs": [
        {
          "output_type": "execute_result",
          "data": {
            "text/plain": [
              "{'uct.ac.za': 6,\n",
              " 'media.berkeley.edu': 4,\n",
              " 'umich.edu': 7,\n",
              " 'iupui.edu': 8,\n",
              " 'caret.cam.ac.uk': 1,\n",
              " 'gmail.com': 1}"
            ]
          },
          "metadata": {},
          "execution_count": 19
        }
      ]
    },
    {
      "cell_type": "code",
      "source": [],
      "metadata": {
        "id": "QqYiBYAAXCcA"
      },
      "execution_count": null,
      "outputs": []
    }
  ]
}